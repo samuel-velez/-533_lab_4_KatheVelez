{
 "cells": [
  {
   "cell_type": "markdown",
   "metadata": {},
   "source": [
    "**If the code below does not work, there is the exact same code in the last cell of the file at the following address:**\n",
    "\n",
    "**/lr_for_the_masses/lr_mlr/lr.py**\n",
    "\n",
    "**That code does work more stably than this version**"
   ]
  },
  {
   "cell_type": "code",
   "execution_count": 6,
   "metadata": {},
   "outputs": [],
   "source": [
    "from lr_for_the_masses.lr_mlr import mlr as mlr\n",
    "import unittest"
   ]
  },
  {
   "cell_type": "code",
   "execution_count": 7,
   "metadata": {},
   "outputs": [],
   "source": [
    "import uncertainties.unumpy as unp\n",
    "import uncertainties as unc\n",
    "import scipy\n",
    "import matplotlib\n",
    "from scipy import stats\n",
    "from scipy.optimize import curve_fit\n",
    "import matplotlib.pyplot as plt\n",
    "import numpy as np\n",
    "import seaborn as sns\n",
    "import sklearn as skl\n",
    "from sklearn import linear_model"
   ]
  },
  {
   "cell_type": "code",
   "execution_count": 8,
   "metadata": {},
   "outputs": [
    {
     "name": "stderr",
     "output_type": "stream",
     "text": [
      "test_setlin (__main__.Testmlr) ... ok\n",
      "test_setlin2 (__main__.Testmlr) ... "
     ]
    },
    {
     "name": "stdout",
     "output_type": "stream",
     "text": [
      "setupClass\n",
      "set Up\n",
      "Tear Down\n",
      "set Up\n",
      "Tear Down\n",
      "teardownClass\n"
     ]
    },
    {
     "name": "stderr",
     "output_type": "stream",
     "text": [
      "ok\n",
      "\n",
      "----------------------------------------------------------------------\n",
      "Ran 2 tests in 0.016s\n",
      "\n",
      "OK\n"
     ]
    },
    {
     "data": {
      "text/plain": [
       "<unittest.main.TestProgram at 0x21224407bb0>"
      ]
     },
     "execution_count": 8,
     "metadata": {},
     "output_type": "execute_result"
    }
   ],
   "source": [
    "A3 = [[0, 0], [1, 1], [2, 2]]\n",
    "A4 = [0, 1, 2]\n",
    "\n",
    "\n",
    "\n",
    "import unittest\n",
    "\n",
    "\n",
    "\n",
    "class Testmlr(unittest.TestCase):\n",
    "    \n",
    "    @classmethod\n",
    "    def setUpClass(cls):\n",
    "        print('setupClass')\n",
    "\n",
    "    def setUp(self):\n",
    "        self.p4 = mlr.mullin(A3,A4)\n",
    "        self.p5 = mlr.mullin(A3,A4)\n",
    "        print('set Up')\n",
    "        \n",
    "    def test_setlin(self): # test routine\n",
    "        p4 = mlr.mullin(A3,A4)\n",
    "        self.assertEqual(round(p4.summary_mul1()[0],2),0.5)\n",
    "        self.assertEqual(str(type(p4.summary_mul1())),str(\"\"\"<class 'numpy.ndarray'>\"\"\"))\n",
    "        self.assertEqual(round(p4.summary_mul1()[1],2),0.5)\n",
    "        self.assertEqual(str(type(p4.summary_mul1()[1])),str(\"\"\"<class 'numpy.float64'>\"\"\"))\n",
    "\n",
    "    def test_setlin2(self): # test routine\n",
    "        p5 = mlr.mullin(A3,A4)\n",
    "        self.assertEqual(round(p5.summary_mul2(),2),0)\n",
    "        self.assertEqual(str(type(p5.summary_mul2())),str(\"\"\"<class 'numpy.float64'>\"\"\"))\n",
    "        self.assertEqual(round(p5.test_diag1(),2),100)\n",
    "        self.assertEqual(str(type(p5.test_diag1())),str(\"\"\"<class 'numpy.float64'>\"\"\"))\n",
    "        \n",
    "    def tearDown(self): # Setting up for the test\n",
    "        print('Tear Down')\n",
    "        \n",
    "    @classmethod\n",
    "    def tearDownClass(cls):\n",
    "        print('teardownClass')\n",
    "        \n",
    "unittest.main(argv=[''], verbosity=2, exit=False)\n",
    "\n",
    "\n"
   ]
  },
  {
   "cell_type": "code",
   "execution_count": null,
   "metadata": {},
   "outputs": [],
   "source": []
  }
 ],
 "metadata": {
  "kernelspec": {
   "display_name": "Python 3",
   "language": "python",
   "name": "python3"
  },
  "language_info": {
   "codemirror_mode": {
    "name": "ipython",
    "version": 3
   },
   "file_extension": ".py",
   "mimetype": "text/x-python",
   "name": "python",
   "nbconvert_exporter": "python",
   "pygments_lexer": "ipython3",
   "version": "3.8.3"
  }
 },
 "nbformat": 4,
 "nbformat_minor": 4
}
