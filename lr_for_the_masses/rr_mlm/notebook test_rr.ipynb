{
 "cells": [
  {
   "cell_type": "code",
   "execution_count": 1,
   "metadata": {},
   "outputs": [
    {
     "output_type": "stream",
     "name": "stderr",
     "text": [
      "test_summarylin (__main__.Testrr) ... The coefficents for ridge regression or a value of alpha: \"1.00\" are \"0.40\" and \"0.40\"\n",
      "The intercept for ridge regression or a value of alpha: \"1.00\" is \"0.20\"\n",
      "ok\n",
      "\n",
      "----------------------------------------------------------------------\n",
      "Ran 1 test in 0.003s\n",
      "\n",
      "OK\n"
     ]
    },
    {
     "output_type": "execute_result",
     "data": {
      "text/plain": [
       "<unittest.main.TestProgram at 0x5fd5550>"
      ]
     },
     "metadata": {},
     "execution_count": 1
    }
   ],
   "source": [
    "import unittest\n",
    "import rr\n",
    "class Testrr(unittest.TestCase):\n",
    "\n",
    "# Each test class should have at least two test cases and each test case should contain at least four assertion statements.\n",
    "\n",
    "    def test_summarylin(self):\n",
    "        A3 = [[0, 0], [1, 1], [2, 2]]\n",
    "        A4 = [0, 1, 2]\n",
    "        self.assertEqual(str( type(rr.ridgelinreg(A3,A4, alpha1 = 0)) ), \"<class 'rr.ridgelinreg'>\")\n",
    "        self.assertEqual(str( type(rr.ridgelinreg(A3,A4, alpha1 = 0).testridgelin()) ), \"<class 'NoneType'>\")\n",
    "        self.assertEqual(str( type(rr.ridgelinreg(A3,A4, alpha1 = 0).testridgelin_fit())), \"<class 'sklearn.linear_model._ridge.Ridge'>\")\n",
    "        self.assertEqual(str( type(rr.ridgelinreg(A3,A4, alpha1 = 0).testridgelin_alpha())), \"<class 'sklearn.linear_model._ridge.Ridge'>\")\n",
    "\n",
    "unittest.main(argv=[''], verbosity=2, exit=False)"
   ]
  },
  {
   "cell_type": "code",
   "execution_count": 8,
   "metadata": {},
   "outputs": [
    {
     "output_type": "stream",
     "name": "stderr",
     "text": [
      "test_summarylin (__main__.Testrr) ... ok\n",
      "\n",
      "----------------------------------------------------------------------\n",
      "Ran 1 test in 0.005s\n",
      "\n",
      "OK\n"
     ]
    },
    {
     "output_type": "execute_result",
     "data": {
      "text/plain": [
       "<unittest.main.TestProgram at 0x25e6c9a0>"
      ]
     },
     "metadata": {},
     "execution_count": 8
    }
   ],
   "source": [
    "import unittest\n",
    "import rr\n",
    "class Testrr(unittest.TestCase):\n",
    "\n",
    "# Each test class should have at least two test cases and each test case should contain at least four assertion statements.\n",
    "\n",
    "    def test_summarylin(self):\n",
    "        A3 = [[0, 0], [1, 1], [2, 2]]\n",
    "        A4 = [0, 1, 2]\n",
    "        self.assertAlmostEqual(rr.ridgelinreg(A3,A4, alpha1 = 0).testridgelin_fit().coef_[0], 0.4,2)\n",
    "        self.assertAlmostEqual(rr.ridgelinreg(A3,A4, alpha1 = 0).testridgelin_fit().coef_[1], 0.4,2)\n",
    "        self.assertAlmostEqual(rr.ridgelinreg(A3,A4, alpha1 = 0).testridgelin_fit().intercept_, 0.2,2)\n",
    "        self.assertEqual(rr.ridgelinreg(A3,A4, alpha1 = 0).testridgelin_fit().n_iter_, None)\n",
    "\n",
    "unittest.main(argv=[''], verbosity=2, exit=False)"
   ]
  }
 ],
 "metadata": {
  "kernelspec": {
   "display_name": "Python 3",
   "language": "python",
   "name": "python3"
  },
  "language_info": {
   "codemirror_mode": {
    "name": "ipython",
    "version": 3
   },
   "file_extension": ".py",
   "mimetype": "text/x-python",
   "name": "python",
   "nbconvert_exporter": "python",
   "pygments_lexer": "ipython3",
   "version": "3.8.3-final"
  }
 },
 "nbformat": 4,
 "nbformat_minor": 4
}