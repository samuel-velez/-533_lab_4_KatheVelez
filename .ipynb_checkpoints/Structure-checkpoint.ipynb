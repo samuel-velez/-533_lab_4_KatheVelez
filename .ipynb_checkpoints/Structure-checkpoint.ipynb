{
 "cells": [
  {
   "cell_type": "markdown",
   "metadata": {},
   "source": [
    "Regression tools\n",
    "\n",
    "1. Subpackage 1: Linear regression\n",
    "\n",
    "1.1. Module 1: Simple Linear Regression\n",
    "\n",
    "1.1.1 Function 1: SciPy\n",
    "\n",
    "1.1.2 Function 2: Gradient descent\n",
    "\n",
    "1.1.3 Function 3: Simulated annealing\n",
    "\n",
    "1.2 Module 2: Lognormal regression\n",
    "\n",
    "1.2.1 Function 1: Fit model\n",
    "\n",
    "1.2.2 Function 2: Summary\n",
    "\n",
    "1.2.3 Function 3: Forecast\n",
    "\n",
    "2. Subpackage 2: Mixed effects\n",
    "\n",
    "2.1 Module 1: Normal mixed effects\n",
    "\n",
    "2.1.1 Function 1: Fit model\n",
    "\n",
    "2.1.2 Function 2: Summary\n",
    "\n",
    "2.1.3 Function 3: Forecast\n",
    "\n",
    "2.2 Module 2: Lognormal mixed effects\n",
    "\n",
    "2.2.1 Function 1: Fit model\n",
    "\n",
    "2.2.2 Function 2: Summary\n",
    "\n",
    "2.2.3 Function 3: Forecast"
   ]
  },
  {
   "cell_type": "code",
   "execution_count": 85,
   "metadata": {},
   "outputs": [
    {
     "ename": "SyntaxError",
     "evalue": "invalid syntax (<ipython-input-85-2e20aca277d5>, line 7)",
     "output_type": "error",
     "traceback": [
      "\u001b[1;36m  File \u001b[1;32m\"<ipython-input-85-2e20aca277d5>\"\u001b[1;36m, line \u001b[1;32m7\u001b[0m\n\u001b[1;33m    pip install git+https://github.com/statsmodels/statsmodels\u001b[0m\n\u001b[1;37m        ^\u001b[0m\n\u001b[1;31mSyntaxError\u001b[0m\u001b[1;31m:\u001b[0m invalid syntax\n"
     ]
    }
   ],
   "source": [
    "# import seaborn as sns\n",
    "# iris = sns.load_dataset('iris')\n",
    "# iris.head()\n",
    "\n",
    "# pip install statsmodels\n",
    "\n"
   ]
  },
  {
   "cell_type": "code",
   "execution_count": 83,
   "metadata": {},
   "outputs": [],
   "source": [
    "import uncertainties.unumpy as unp\n",
    "import uncertainties as unc\n",
    "import scipy\n",
    "import matplotlib\n",
    "from scipy import stats\n",
    "from scipy.optimize import curve_fit\n",
    "import matplotlib.pyplot as plt\n",
    "import numpy as np\n",
    "import seaborn as sns\n",
    "import sklearn as skl\n",
    "from sklearn import linear_model\n",
    "# import statsmodels.api as sm\n",
    "# pip install git+https://github.com/statsmodels/statsmodels\n",
    "\n"
   ]
  },
  {
   "cell_type": "code",
   "execution_count": 57,
   "metadata": {},
   "outputs": [
    {
     "name": "stdout",
     "output_type": "stream",
     "text": [
      " \n",
      "The summary of the linear regression model is given below:\n",
      "Slope: 2.05 Intercept: 3.40\n",
      " \n",
      "The diagnosis of the simple Linear Regression model for the R value, P-value and Std. error is given below:\n",
      " r_val: 0.77 p_val: 0.01 std_err: 0.59\n"
     ]
    }
   ],
   "source": [
    "A = [1, 2, 3, 4, 5, 6, 7, 8 , 9 , 10]\n",
    "B = [5, 6, 8, 9, 16, 29, 14, 16, 19, 25]\n",
    "\n",
    "class simlin:\n",
    "    def __init__(self, predictor, response, slope =0 , intercept =0, r_val =0, p_val =0, std_err =0):\n",
    "        self.predictor= predictor\n",
    "        self.response= response\n",
    "        self.slope = slope\n",
    "        self.intercept = intercept\n",
    "        self.r_val = r_val\n",
    "        self.p_val = p_val\n",
    "        self.std_err = std_err\n",
    "        \n",
    "        \n",
    "    def summarylin(self):\n",
    "        self.slope, self.intercept, self.r_val, self.p_val, std_err = stats.linregress(self.predictor, self.response)\n",
    "        print(\" \")\n",
    "        print(\"The summary of the linear regression model is given below:\")\n",
    "        print(\"Slope: \" + \"{:.2f}\".format(self.slope) + \" Intercept: \" + \"{:.2f}\".format(self.intercept))\n",
    "        \n",
    "    def diagnoselin(self):\n",
    "        self.slope, self.intercept, self.r_val, self.p_val, self.std_err = stats.linregress(self.predictor, self.response)\n",
    "        print(\" \")\n",
    "        print(\"The diagnosis of the simple Linear Regression model for the R value, P-value and Std. error is given below:\")\n",
    "        print(\" r_val: \" + \"{:.2f}\".format(self.r_val) + \" p_val: \" + \"{:.2f}\".format(self.p_val) + \" std_err: \" + \"{:.2f}\".format(self.std_err))\n",
    "\n",
    "a = simlin(A,B)\n",
    "a.summarylin()\n",
    "a.diagnoselin()"
   ]
  },
  {
   "cell_type": "code",
   "execution_count": 58,
   "metadata": {},
   "outputs": [
    {
     "name": "stdout",
     "output_type": "stream",
     "text": [
      " \n",
      "The summary of the linear regression model is given below:\n",
      "Slope: 2.05 Intercept: 3.40\n",
      " \n",
      "The diagnosis of the simple Linear Regression model for the R value, P-value and Std. error is given below:\n",
      " r_val: 0.77 p_val: 0.01 std_err: 0.59\n",
      " \n",
      "The following is the original data\n"
     ]
    },
    {
     "data": {
      "image/png": "[encoded data removed]",
      "text/plain": [
       "<Figure size 432x288 with 1 Axes>"
      ]
     },
     "metadata": {},
     "output_type": "display_data"
    },
    {
     "name": "stdout",
     "output_type": "stream",
     "text": [
      " \n",
      "The following is a visual representation of the regression analysis\n"
     ]
    },
    {
     "data": {
      "image/png": "[encoded data removed]",
      "text/plain": [
       "<Figure size 432x288 with 1 Axes>"
      ]
     },
     "metadata": {},
     "output_type": "display_data"
    },
    {
     "name": "stdout",
     "output_type": "stream",
     "text": [
      " \n",
      "The following is a visual representation of the regression analysis with confidence intervals\n"
     ]
    },
    {
     "data": {
      "image/png": "[encoded data removed]",
      "text/plain": [
       "<Figure size 432x288 with 1 Axes>"
      ]
     },
     "metadata": {},
     "output_type": "display_data"
    }
   ],
   "source": [
    "class plotlin(simlin): #child class for all regression\n",
    "    def __init__(self, predictor, response):\n",
    "        simlin.__init__(self, predictor, response)  #calling super function to inherit all methods of the parent class\n",
    "    \n",
    "    def plotoriginaldata(self):\n",
    "        print(\" \")\n",
    "        print(\"The following is the original data\")\n",
    "        plt.scatter(self.predictor, self.response, s=3, label='Data')\n",
    "        plt.ylabel('y')\n",
    "        plt.xlabel('x')\n",
    "        plt.legend(loc='best')\n",
    "        plt.show()\n",
    "        \n",
    "    def plotfittedline(self):\n",
    "        print(\" \")\n",
    "        print(\"The following is a visual representation of the regression analysis\")\n",
    "        x = np.linspace(max(self.predictor),min(self.predictor))\n",
    "        plt.scatter(self.predictor, self.response, s=3, label='Data')\n",
    "        plt.plot(x, self.intercept + self.slope*(x), 'r', label='fitted line')\n",
    "        plt.ylabel('y')\n",
    "        plt.xlabel('x')\n",
    "        plt.legend(loc='best')\n",
    "        plt.show()\n",
    "\n",
    "    def plotconfidence_intervals(self):\n",
    "        print(\" \")\n",
    "        print(\"The following is a visual representation of the regression analysis with confidence intervals\")\n",
    "        sns.set_theme(color_codes=True)\n",
    "        sns.regplot(x=A, y=B)\n",
    "\n",
    "\n",
    "\n",
    "a1 = plotlin(A,B)\n",
    "a1.summarylin()\n",
    "a1.diagnoselin()\n",
    "a1.plotoriginaldata()\n",
    "a1.plotfittedline()\n",
    "a1.plotconfidence_intervals()\n",
    "\n"
   ]
  },
  {
   "cell_type": "code",
   "execution_count": 90,
   "metadata": {},
   "outputs": [
    {
     "name": "stdout",
     "output_type": "stream",
     "text": [
      "The coefficients for multiple linear regression are: \n",
      "[0.5 0.5]\n",
      "The intercept for multiple linear regression is: \n",
      "0\n",
      "The fitted model is of the form Y = \"0.000000\" + \"0.500000\"*x1 + \"0.500000\"*x2\n",
      "The R2 value of the model is \"1.0\" \n",
      "The current model explains \"100.0\" % of the data: \n",
      "The fitted model is of the form Y = \"0.000000\" + \"0.500000\"*x1 + \"0.500000\"*x2\n"
     ]
    }
   ],
   "source": [
    "A3 = [[0, 0], [1, 1], [2, 2]]\n",
    "A4 = [0, 1, 2]\n",
    "\n",
    "\n",
    "class mullin:\n",
    "    def __init__(self, predictor_vec = A3, response = A4):\n",
    "        self.predictor_vec = predictor_vec\n",
    "        self.response= response \n",
    "        \n",
    "    def summary_mullin(self):\n",
    "        regr = linear_model.LinearRegression()\n",
    "        regr.fit(self.predictor_vec, self.response)\n",
    "        print(\"The coefficients for multiple linear regression are: \")\n",
    "        print(regr.coef_)\n",
    "        print(\"The intercept for multiple linear regression is: \")\n",
    "        print(round(regr.intercept_))\n",
    "        print('The fitted model is of the form Y = \"{:2f}\" + \"{:2f}\"*x1 + \"{:2f}\"*x2'.format(regr.intercept_,regr.coef_[0], regr.coef_[1], ))\n",
    "        \n",
    "    def diag_Rval(self):\n",
    "        regr = linear_model.LinearRegression()\n",
    "        regr.fit(self.predictor_vec, self.response)\n",
    "        regr1 = regr.score(self.predictor_vec, self.response)\n",
    "        print('The R2 value of the model is \"{}\" '.format(regr1))\n",
    "        print('The current model explains \"{}\" % of the data: '.format(regr1*100))\n",
    "\n",
    "\n",
    "        \n",
    "\n",
    "b = mullin()\n",
    "b.summary_mullin()\n",
    "b.diag_Rval()\n",
    "    "
   ]
  },
  {
   "cell_type": "code",
   "execution_count": 102,
   "metadata": {},
   "outputs": [
    {
     "name": "stdin",
     "output_type": "stream",
     "text": [
      "Enter an alpha value for regularization: 0.9\n"
     ]
    },
    {
     "name": "stdout",
     "output_type": "stream",
     "text": [
      "The coefficents for ridge regression or a value of alpha: \"0.90\" are \"0.41\" and \"0.41\"\n",
      "The intercept for ridge regression or a value of alpha: \"0.90\" is \"0.18\"\n"
     ]
    },
    {
     "name": "stdin",
     "output_type": "stream",
     "text": [
      "Enter an alpha value for regularization: 0.9\n"
     ]
    },
    {
     "name": "stdout",
     "output_type": "stream",
     "text": [
      "The coefficents for ridge regression or a value of alpha: \"0.90\" are \"0.41\" and \"0.41\"\n",
      "The intercept for ridge regression or a value of alpha: \"0.90\" is \"0.18\"\n"
     ]
    },
    {
     "data": {
      "image/png": "[encoded data removed]",
      "text/plain": [
       "<Figure size 432x288 with 1 Axes>"
      ]
     },
     "metadata": {},
     "output_type": "display_data"
    }
   ],
   "source": [
    "# Ridge Regression\n",
    "\n",
    "class ridgelinreg():\n",
    "    from sklearn import linear_model\n",
    "    \n",
    "    def __init__(self, predictor_vec = A3, response = A4, alpha1 = 0):\n",
    "        self.predictor_vec = predictor_vec\n",
    "        self.response= response\n",
    "        self.alpha1 = alpha1\n",
    "    \n",
    "    def ridgelin(self):\n",
    "        self.alpha1 = float(input(\"Enter an alpha value for regularization:\"))\n",
    "        reg = linear_model.Ridge(alpha=self.alpha1)\n",
    "        reg.fit(self.predictor_vec, self.response)\n",
    "        print('The coefficents for ridge regression or a value of alpha: \"{:.2f}\" are \"{:.2f}\" and \"{:.2f}\"'.format(self.alpha1, reg.coef_[0], reg.coef_[1]))\n",
    "        print('The intercept for ridge regression or a value of alpha: \"{:.2f}\" is \"{:.2f}\"'.format(self.alpha1, reg.intercept_))\n",
    "        \n",
    "class vislinridge(ridgelinreg):\n",
    "    def __init__(self, predictor_vec = A3, response = A4, alpha1 = 0, n_alpha = 100):\n",
    "        ridgelinreg.__init__(self,predictor_vec = A3, response = A4, alpha1 = 0)\n",
    "        self.n_alpha = n_alpha\n",
    "    \n",
    "    def visridgealpha(self):\n",
    "        ridgelinreg.ridgelin(self)\n",
    "        alphas = np.logspace(-10, -2, self.n_alpha)\n",
    "        coefs = []\n",
    "        for a in alphas:\n",
    "            ridge = linear_model.Ridge(alpha=a, fit_intercept=False)\n",
    "            ridge.fit(self.predictor_vec, self.response)\n",
    "            coefs.append(ridge.coef_)\n",
    "        \n",
    "        v1 = plt.gca()\n",
    "        v1.plot(alphas, coefs)\n",
    "        v1.set_xscale('log')\n",
    "        v1.set_xlim(v1.get_xlim()[::-1])  # reverse axis\n",
    "        plt.xlabel('alpha')\n",
    "        plt.ylabel('weights')\n",
    "        plt.show()\n",
    "\n",
    "        \n",
    "c = ridgelinreg()\n",
    "c.ridgelin()\n",
    "\n",
    "d = vislinridge()\n",
    "d.visridgealpha()\n"
   ]
  },
  {
   "cell_type": "code",
   "execution_count": null,
   "metadata": {},
   "outputs": [],
   "source": []
  },
  {
   "cell_type": "code",
   "execution_count": null,
   "metadata": {},
   "outputs": [],
   "source": []
  },
  {
   "cell_type": "code",
   "execution_count": null,
   "metadata": {},
   "outputs": [],
   "source": []
  }
 ],
 "metadata": {
  "kernelspec": {
   "display_name": "Python 3",
   "language": "python",
   "name": "python3"
  },
  "language_info": {
   "codemirror_mode": {
    "name": "ipython",
    "version": 3
   },
   "file_extension": ".py",
   "mimetype": "text/x-python",
   "name": "python",
   "nbconvert_exporter": "python",
   "pygments_lexer": "ipython3",
   "version": "3.8.3"
  }
 },
 "nbformat": 4,
 "nbformat_minor": 4
}