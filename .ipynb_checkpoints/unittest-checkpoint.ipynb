{
 "metadata": {
  "language_info": {
   "codemirror_mode": {
    "name": "ipython",
    "version": 3
   },
   "file_extension": ".py",
   "mimetype": "text/x-python",
   "name": "python",
   "nbconvert_exporter": "python",
   "pygments_lexer": "ipython3",
   "version": "3.8.3-final"
  },
  "orig_nbformat": 2,
  "kernelspec": {
   "name": "python3",
   "display_name": "Python 3",
   "language": "python"
  }
 },
 "nbformat": 4,
 "nbformat_minor": 2,
 "cells": [
  {
   "cell_type": "code",
   "execution_count": 2,
   "metadata": {},
   "outputs": [],
   "source": [
    "from lr_for_the_masses.rr_mlm import rr as rr\n",
    "from lr_for_the_masses.rr_mlm import mlm as mlm\n",
    "import unittest"
   ]
  },
  {
   "cell_type": "code",
   "execution_count": null,
   "metadata": {},
   "outputs": [],
   "source": [
    "A = [1, 2, 3, 4, 5, 6, 7, 8 , 9 , 10]\n",
    "B = [5, 6, 8, 9, 16, 29, 14, 16, 19, 25]\n",
    "C = [\"1\",\"1\",\"1\",\"1\",\"1\",\"1\",\"2\",\"2\",\"2\",\"2\"]"
   ]
  },
  {
   "cell_type": "code",
   "execution_count": 14,
   "metadata": {},
   "outputs": [
    {
     "output_type": "execute_result",
     "data": {
      "text/plain": [
       "array([0.4, 0.4])"
      ]
     },
     "metadata": {},
     "execution_count": 14
    }
   ],
   "source": [
    "A3 = [[0, 0], [1, 1], [2, 2]]\n",
    "A4 = [0, 1, 2]\n",
    "#test1 = rr.ridgelinreg(A3, A4, alpha1 = 0)\n",
    "test1 = rr.ridgelinreg(A3,A4, alpha1 = 0).testridgelin_fit()\n",
    "test1.coef_"
   ]
  },
  {
   "cell_type": "code",
   "execution_count": 16,
   "metadata": {},
   "outputs": [
    {
     "output_type": "error",
     "ename": "SyntaxError",
     "evalue": "invalid syntax (<ipython-input-16-c1c5777b5ada>, line 1)",
     "traceback": [
      "\u001b[1;36m  File \u001b[1;32m\"<ipython-input-16-c1c5777b5ada>\"\u001b[1;36m, line \u001b[1;32m1\u001b[0m\n\u001b[1;33m    rr.ridgelinreg(A3,A4, alpha1 = 0).testridgelin() == \"\"The coefficents for ridge regression or a value of alpha: \"1.00\" are \"0.40\" and \"0.40\"\u001b[0m\n\u001b[1;37m                                                          ^\u001b[0m\n\u001b[1;31mSyntaxError\u001b[0m\u001b[1;31m:\u001b[0m invalid syntax\n"
     ]
    }
   ],
   "source": [
    "rr.ridgelinreg(A3,A4, alpha1 = 0).testridgelin()"
   ]
  },
  {
   "cell_type": "code",
   "execution_count": 64,
   "metadata": {},
   "outputs": [
    {
     "output_type": "execute_result",
     "data": {
      "text/plain": [
       "nan"
      ]
     },
     "metadata": {},
     "execution_count": 64
    }
   ],
   "source": [
    "import pandas as pd\n",
    "#pd.isnull(test1.normalized_cov_params[0])\n",
    "#test1.cov_re[\"Group Var\"] == 0\n",
    "#test1.bse_fe[0]\n",
    "test1.bse_re[0]"
   ]
  },
  {
   "cell_type": "code",
   "execution_count": 3,
   "metadata": {},
   "outputs": [
    {
     "output_type": "stream",
     "name": "stderr",
     "text": [
      "C:\\Users\\Sam\\AppData\\Local\\Programs\\Python\\Python38-32\\lib\\site-packages\\statsmodels\\base\\model.py:567: ConvergenceWarning: Maximum Likelihood optimization failed to converge. Check mle_retvals\n",
      "  warn(\"Maximum Likelihood optimization failed to converge. \"\n",
      "C:\\Users\\Sam\\AppData\\Local\\Programs\\Python\\Python38-32\\lib\\site-packages\\statsmodels\\regression\\mixed_linear_model.py:2112: ConvergenceWarning: Retrying MixedLM optimization with lbfgs\n",
      "  warnings.warn(\n",
      "C:\\Users\\Sam\\AppData\\Local\\Programs\\Python\\Python38-32\\lib\\site-packages\\statsmodels\\base\\model.py:567: ConvergenceWarning: Maximum Likelihood optimization failed to converge. Check mle_retvals\n",
      "  warn(\"Maximum Likelihood optimization failed to converge. \"\n",
      "C:\\Users\\Sam\\AppData\\Local\\Programs\\Python\\Python38-32\\lib\\site-packages\\statsmodels\\regression\\mixed_linear_model.py:2112: ConvergenceWarning: Retrying MixedLM optimization with cg\n",
      "  warnings.warn(\n",
      "C:\\Users\\Sam\\AppData\\Local\\Programs\\Python\\Python38-32\\lib\\site-packages\\statsmodels\\base\\model.py:567: ConvergenceWarning: Maximum Likelihood optimization failed to converge. Check mle_retvals\n",
      "  warn(\"Maximum Likelihood optimization failed to converge. \"\n",
      "C:\\Users\\Sam\\AppData\\Local\\Programs\\Python\\Python38-32\\lib\\site-packages\\statsmodels\\regression\\mixed_linear_model.py:2118: ConvergenceWarning: MixedLM optimization failed, trying a different optimizer may help.\n",
      "  warnings.warn(msg, ConvergenceWarning)\n",
      "C:\\Users\\Sam\\AppData\\Local\\Programs\\Python\\Python38-32\\lib\\site-packages\\statsmodels\\regression\\mixed_linear_model.py:2130: ConvergenceWarning: Gradient optimization failed, |grad| = nan\n",
      "  warnings.warn(msg, ConvergenceWarning)\n",
      "C:\\Users\\Sam\\AppData\\Local\\Programs\\Python\\Python38-32\\lib\\site-packages\\statsmodels\\regression\\mixed_linear_model.py:2149: ConvergenceWarning: The MLE may be on the boundary of the parameter space.\n",
      "  warnings.warn(msg, ConvergenceWarning)\n",
      "C:\\Users\\Sam\\AppData\\Local\\Programs\\Python\\Python38-32\\lib\\site-packages\\statsmodels\\base\\model.py:567: ConvergenceWarning: Maximum Likelihood optimization failed to converge. Check mle_retvals\n",
      "  warn(\"Maximum Likelihood optimization failed to converge. \"\n",
      "C:\\Users\\Sam\\AppData\\Local\\Programs\\Python\\Python38-32\\lib\\site-packages\\statsmodels\\regression\\mixed_linear_model.py:2112: ConvergenceWarning: Retrying MixedLM optimization with lbfgs\n",
      "  warnings.warn(\n",
      "C:\\Users\\Sam\\AppData\\Local\\Programs\\Python\\Python38-32\\lib\\site-packages\\statsmodels\\base\\model.py:567: ConvergenceWarning: Maximum Likelihood optimization failed to converge. Check mle_retvals\n",
      "  warn(\"Maximum Likelihood optimization failed to converge. \"\n",
      "C:\\Users\\Sam\\AppData\\Local\\Programs\\Python\\Python38-32\\lib\\site-packages\\statsmodels\\regression\\mixed_linear_model.py:2112: ConvergenceWarning: Retrying MixedLM optimization with cg\n",
      "  warnings.warn(\n",
      "C:\\Users\\Sam\\AppData\\Local\\Programs\\Python\\Python38-32\\lib\\site-packages\\statsmodels\\base\\model.py:567: ConvergenceWarning: Maximum Likelihood optimization failed to converge. Check mle_retvals\n",
      "  warn(\"Maximum Likelihood optimization failed to converge. \"\n",
      "C:\\Users\\Sam\\AppData\\Local\\Programs\\Python\\Python38-32\\lib\\site-packages\\statsmodels\\regression\\mixed_linear_model.py:2118: ConvergenceWarning: MixedLM optimization failed, trying a different optimizer may help.\n",
      "  warnings.warn(msg, ConvergenceWarning)\n",
      "C:\\Users\\Sam\\AppData\\Local\\Programs\\Python\\Python38-32\\lib\\site-packages\\statsmodels\\regression\\mixed_linear_model.py:2130: ConvergenceWarning: Gradient optimization failed, |grad| = nan\n",
      "  warnings.warn(msg, ConvergenceWarning)\n",
      "C:\\Users\\Sam\\AppData\\Local\\Programs\\Python\\Python38-32\\lib\\site-packages\\statsmodels\\regression\\mixed_linear_model.py:2149: ConvergenceWarning: The MLE may be on the boundary of the parameter space.\n",
      "  warnings.warn(msg, ConvergenceWarning)\n",
      " \n",
      "The summary of the linear mixed effects model is given below:\n"
     ]
    },
    {
     "output_type": "error",
     "ename": "ValueError",
     "evalue": "Cannot predict random effects from singular covariance structure.",
     "traceback": [
      "\u001b[1;31m---------------------------------------------------------------------------\u001b[0m",
      "\u001b[1;31mLinAlgError\u001b[0m                               Traceback (most recent call last)",
      "\u001b[1;32m~\\AppData\\Local\\Programs\\Python\\Python38-32\\lib\\site-packages\\statsmodels\\regression\\mixed_linear_model.py\u001b[0m in \u001b[0;36mrandom_effects\u001b[1;34m(self)\u001b[0m\n\u001b[0;32m   2410\u001b[0m         \u001b[1;32mtry\u001b[0m\u001b[1;33m:\u001b[0m\u001b[1;33m\u001b[0m\u001b[1;33m\u001b[0m\u001b[0m\n\u001b[1;32m-> 2411\u001b[1;33m             \u001b[0mcov_re_inv\u001b[0m \u001b[1;33m=\u001b[0m \u001b[0mnp\u001b[0m\u001b[1;33m.\u001b[0m\u001b[0mlinalg\u001b[0m\u001b[1;33m.\u001b[0m\u001b[0minv\u001b[0m\u001b[1;33m(\u001b[0m\u001b[0mself\u001b[0m\u001b[1;33m.\u001b[0m\u001b[0mcov_re\u001b[0m\u001b[1;33m)\u001b[0m\u001b[1;33m\u001b[0m\u001b[1;33m\u001b[0m\u001b[0m\n\u001b[0m\u001b[0;32m   2412\u001b[0m         \u001b[1;32mexcept\u001b[0m \u001b[0mnp\u001b[0m\u001b[1;33m.\u001b[0m\u001b[0mlinalg\u001b[0m\u001b[1;33m.\u001b[0m\u001b[0mLinAlgError\u001b[0m\u001b[1;33m:\u001b[0m\u001b[1;33m\u001b[0m\u001b[1;33m\u001b[0m\u001b[0m\n",
      "\u001b[1;32m<__array_function__ internals>\u001b[0m in \u001b[0;36minv\u001b[1;34m(*args, **kwargs)\u001b[0m\n",
      "\u001b[1;32m~\\AppData\\Local\\Programs\\Python\\Python38-32\\lib\\site-packages\\numpy\\linalg\\linalg.py\u001b[0m in \u001b[0;36minv\u001b[1;34m(a)\u001b[0m\n\u001b[0;32m    546\u001b[0m     \u001b[0mextobj\u001b[0m \u001b[1;33m=\u001b[0m \u001b[0mget_linalg_error_extobj\u001b[0m\u001b[1;33m(\u001b[0m\u001b[0m_raise_linalgerror_singular\u001b[0m\u001b[1;33m)\u001b[0m\u001b[1;33m\u001b[0m\u001b[1;33m\u001b[0m\u001b[0m\n\u001b[1;32m--> 547\u001b[1;33m     \u001b[0mainv\u001b[0m \u001b[1;33m=\u001b[0m \u001b[0m_umath_linalg\u001b[0m\u001b[1;33m.\u001b[0m\u001b[0minv\u001b[0m\u001b[1;33m(\u001b[0m\u001b[0ma\u001b[0m\u001b[1;33m,\u001b[0m \u001b[0msignature\u001b[0m\u001b[1;33m=\u001b[0m\u001b[0msignature\u001b[0m\u001b[1;33m,\u001b[0m \u001b[0mextobj\u001b[0m\u001b[1;33m=\u001b[0m\u001b[0mextobj\u001b[0m\u001b[1;33m)\u001b[0m\u001b[1;33m\u001b[0m\u001b[1;33m\u001b[0m\u001b[0m\n\u001b[0m\u001b[0;32m    548\u001b[0m     \u001b[1;32mreturn\u001b[0m \u001b[0mwrap\u001b[0m\u001b[1;33m(\u001b[0m\u001b[0mainv\u001b[0m\u001b[1;33m.\u001b[0m\u001b[0mastype\u001b[0m\u001b[1;33m(\u001b[0m\u001b[0mresult_t\u001b[0m\u001b[1;33m,\u001b[0m \u001b[0mcopy\u001b[0m\u001b[1;33m=\u001b[0m\u001b[1;32mFalse\u001b[0m\u001b[1;33m)\u001b[0m\u001b[1;33m)\u001b[0m\u001b[1;33m\u001b[0m\u001b[1;33m\u001b[0m\u001b[0m\n",
      "\u001b[1;32m~\\AppData\\Local\\Programs\\Python\\Python38-32\\lib\\site-packages\\numpy\\linalg\\linalg.py\u001b[0m in \u001b[0;36m_raise_linalgerror_singular\u001b[1;34m(err, flag)\u001b[0m\n\u001b[0;32m     96\u001b[0m \u001b[1;32mdef\u001b[0m \u001b[0m_raise_linalgerror_singular\u001b[0m\u001b[1;33m(\u001b[0m\u001b[0merr\u001b[0m\u001b[1;33m,\u001b[0m \u001b[0mflag\u001b[0m\u001b[1;33m)\u001b[0m\u001b[1;33m:\u001b[0m\u001b[1;33m\u001b[0m\u001b[1;33m\u001b[0m\u001b[0m\n\u001b[1;32m---> 97\u001b[1;33m     \u001b[1;32mraise\u001b[0m \u001b[0mLinAlgError\u001b[0m\u001b[1;33m(\u001b[0m\u001b[1;34m\"Singular matrix\"\u001b[0m\u001b[1;33m)\u001b[0m\u001b[1;33m\u001b[0m\u001b[1;33m\u001b[0m\u001b[0m\n\u001b[0m\u001b[0;32m     98\u001b[0m \u001b[1;33m\u001b[0m\u001b[0m\n",
      "\u001b[1;31mLinAlgError\u001b[0m: Singular matrix",
      "\nDuring handling of the above exception, another exception occurred:\n",
      "\u001b[1;31mValueError\u001b[0m                                Traceback (most recent call last)",
      "\u001b[1;32m<ipython-input-3-696a2ad1b91d>\u001b[0m in \u001b[0;36m<module>\u001b[1;34m\u001b[0m\n\u001b[0;32m      1\u001b[0m \u001b[0mtest_mlm_class\u001b[0m \u001b[1;33m=\u001b[0m \u001b[0mmlm\u001b[0m\u001b[1;33m.\u001b[0m\u001b[0mlinearmixedeffects\u001b[0m\u001b[1;33m(\u001b[0m\u001b[0mA\u001b[0m\u001b[1;33m,\u001b[0m\u001b[0mB\u001b[0m\u001b[1;33m,\u001b[0m\u001b[0mC\u001b[0m\u001b[1;33m)\u001b[0m\u001b[1;33m\u001b[0m\u001b[1;33m\u001b[0m\u001b[0m\n\u001b[0;32m      2\u001b[0m \u001b[0mtest_mlm_summary\u001b[0m \u001b[1;33m=\u001b[0m \u001b[0mmlm\u001b[0m\u001b[1;33m.\u001b[0m\u001b[0mlinearmixedeffects\u001b[0m\u001b[1;33m(\u001b[0m\u001b[0mA\u001b[0m\u001b[1;33m,\u001b[0m\u001b[0mB\u001b[0m\u001b[1;33m,\u001b[0m\u001b[0mC\u001b[0m\u001b[1;33m)\u001b[0m\u001b[1;33m.\u001b[0m\u001b[0msummarymlm\u001b[0m\u001b[1;33m(\u001b[0m\u001b[1;33m)\u001b[0m\u001b[1;33m\u001b[0m\u001b[1;33m\u001b[0m\u001b[0m\n\u001b[1;32m----> 3\u001b[1;33m \u001b[0mtest_mlm_plot\u001b[0m \u001b[1;33m=\u001b[0m \u001b[0mmlm\u001b[0m\u001b[1;33m.\u001b[0m\u001b[0mlinearmixedeffects\u001b[0m\u001b[1;33m(\u001b[0m\u001b[0mA\u001b[0m\u001b[1;33m,\u001b[0m\u001b[0mB\u001b[0m\u001b[1;33m,\u001b[0m\u001b[0mC\u001b[0m\u001b[1;33m)\u001b[0m\u001b[1;33m.\u001b[0m\u001b[0mplotmlm\u001b[0m\u001b[1;33m(\u001b[0m\u001b[1;33m)\u001b[0m\u001b[1;33m\u001b[0m\u001b[1;33m\u001b[0m\u001b[0m\n\u001b[0m",
      "\u001b[1;32mc:\\Users\\Sam\\UBC_MDS_Term_1\\data_533\\labs\\lab3\\533_lab_3_KatheVelez\\lr_for_the_masses\\rr_mlm\\mlm.py\u001b[0m in \u001b[0;36mplotmlm\u001b[1;34m(self)\u001b[0m\n\u001b[0;32m     29\u001b[0m         \u001b[0mmlmf\u001b[0m \u001b[1;33m=\u001b[0m \u001b[0mmlm\u001b[0m\u001b[1;33m.\u001b[0m\u001b[0mfit\u001b[0m\u001b[1;33m(\u001b[0m\u001b[1;33m)\u001b[0m\u001b[1;33m\u001b[0m\u001b[1;33m\u001b[0m\u001b[0m\n\u001b[0;32m     30\u001b[0m         \u001b[0mdb_plot\u001b[0m \u001b[1;33m=\u001b[0m \u001b[0mpd\u001b[0m\u001b[1;33m.\u001b[0m\u001b[0mDataFrame\u001b[0m\u001b[1;33m(\u001b[0m\u001b[1;33m)\u001b[0m\u001b[1;33m\u001b[0m\u001b[1;33m\u001b[0m\u001b[0m\n\u001b[1;32m---> 31\u001b[1;33m         \u001b[0mdb_plot\u001b[0m\u001b[1;33m[\u001b[0m\u001b[1;34m\"residuals\"\u001b[0m\u001b[1;33m]\u001b[0m \u001b[1;33m=\u001b[0m \u001b[0mmlmf\u001b[0m\u001b[1;33m.\u001b[0m\u001b[0mresid\u001b[0m\u001b[1;33m.\u001b[0m\u001b[0mvalues\u001b[0m\u001b[1;33m\u001b[0m\u001b[1;33m\u001b[0m\u001b[0m\n\u001b[0m\u001b[0;32m     32\u001b[0m         \u001b[0mdb_plot\u001b[0m\u001b[1;33m[\u001b[0m\u001b[1;34m\"fixed\"\u001b[0m\u001b[1;33m]\u001b[0m \u001b[1;33m=\u001b[0m \u001b[0mfixed\u001b[0m\u001b[1;33m\u001b[0m\u001b[1;33m\u001b[0m\u001b[0m\n\u001b[0;32m     33\u001b[0m         \u001b[0mdb_plot\u001b[0m\u001b[1;33m[\u001b[0m\u001b[1;34m\"predicted\"\u001b[0m\u001b[1;33m]\u001b[0m \u001b[1;33m=\u001b[0m \u001b[0mmdf\u001b[0m\u001b[1;33m.\u001b[0m\u001b[0mfittedvalues\u001b[0m\u001b[1;33m\u001b[0m\u001b[1;33m\u001b[0m\u001b[0m\n",
      "\u001b[1;32m~\\AppData\\Local\\Programs\\Python\\Python38-32\\lib\\site-packages\\statsmodels\\base\\wrapper.py\u001b[0m in \u001b[0;36m__getattribute__\u001b[1;34m(self, attr)\u001b[0m\n\u001b[0;32m     34\u001b[0m             \u001b[1;32mpass\u001b[0m\u001b[1;33m\u001b[0m\u001b[1;33m\u001b[0m\u001b[0m\n\u001b[0;32m     35\u001b[0m \u001b[1;33m\u001b[0m\u001b[0m\n\u001b[1;32m---> 36\u001b[1;33m         \u001b[0mobj\u001b[0m \u001b[1;33m=\u001b[0m \u001b[0mgetattr\u001b[0m\u001b[1;33m(\u001b[0m\u001b[0mresults\u001b[0m\u001b[1;33m,\u001b[0m \u001b[0mattr\u001b[0m\u001b[1;33m)\u001b[0m\u001b[1;33m\u001b[0m\u001b[1;33m\u001b[0m\u001b[0m\n\u001b[0m\u001b[0;32m     37\u001b[0m         \u001b[0mdata\u001b[0m \u001b[1;33m=\u001b[0m \u001b[0mresults\u001b[0m\u001b[1;33m.\u001b[0m\u001b[0mmodel\u001b[0m\u001b[1;33m.\u001b[0m\u001b[0mdata\u001b[0m\u001b[1;33m\u001b[0m\u001b[1;33m\u001b[0m\u001b[0m\n\u001b[0;32m     38\u001b[0m         \u001b[0mhow\u001b[0m \u001b[1;33m=\u001b[0m \u001b[0mself\u001b[0m\u001b[1;33m.\u001b[0m\u001b[0m_wrap_attrs\u001b[0m\u001b[1;33m.\u001b[0m\u001b[0mget\u001b[0m\u001b[1;33m(\u001b[0m\u001b[0mattr\u001b[0m\u001b[1;33m)\u001b[0m\u001b[1;33m\u001b[0m\u001b[1;33m\u001b[0m\u001b[0m\n",
      "\u001b[1;32mpandas\\_libs\\properties.pyx\u001b[0m in \u001b[0;36mpandas._libs.properties.CachedProperty.__get__\u001b[1;34m()\u001b[0m\n",
      "\u001b[1;32m~\\AppData\\Local\\Programs\\Python\\Python38-32\\lib\\site-packages\\statsmodels\\regression\\mixed_linear_model.py\u001b[0m in \u001b[0;36mresid\u001b[1;34m(self)\u001b[0m\n\u001b[0;32m   2357\u001b[0m         \u001b[0mfixed\u001b[0m \u001b[0meffects\u001b[0m \u001b[1;32mand\u001b[0m \u001b[0mthe\u001b[0m \u001b[0mpredicted\u001b[0m \u001b[0mrandom\u001b[0m \u001b[0meffects\u001b[0m\u001b[1;33m.\u001b[0m\u001b[1;33m\u001b[0m\u001b[1;33m\u001b[0m\u001b[0m\n\u001b[0;32m   2358\u001b[0m         \"\"\"\n\u001b[1;32m-> 2359\u001b[1;33m         \u001b[1;32mreturn\u001b[0m \u001b[0mself\u001b[0m\u001b[1;33m.\u001b[0m\u001b[0mmodel\u001b[0m\u001b[1;33m.\u001b[0m\u001b[0mendog\u001b[0m \u001b[1;33m-\u001b[0m \u001b[0mself\u001b[0m\u001b[1;33m.\u001b[0m\u001b[0mfittedvalues\u001b[0m\u001b[1;33m\u001b[0m\u001b[1;33m\u001b[0m\u001b[0m\n\u001b[0m\u001b[0;32m   2360\u001b[0m \u001b[1;33m\u001b[0m\u001b[0m\n\u001b[0;32m   2361\u001b[0m     \u001b[1;33m@\u001b[0m\u001b[0mcache_readonly\u001b[0m\u001b[1;33m\u001b[0m\u001b[1;33m\u001b[0m\u001b[0m\n",
      "\u001b[1;32mpandas\\_libs\\properties.pyx\u001b[0m in \u001b[0;36mpandas._libs.properties.CachedProperty.__get__\u001b[1;34m()\u001b[0m\n",
      "\u001b[1;32m~\\AppData\\Local\\Programs\\Python\\Python38-32\\lib\\site-packages\\statsmodels\\regression\\mixed_linear_model.py\u001b[0m in \u001b[0;36mfittedvalues\u001b[1;34m(self)\u001b[0m\n\u001b[0;32m   2334\u001b[0m         \"\"\"\n\u001b[0;32m   2335\u001b[0m         \u001b[0mfit\u001b[0m \u001b[1;33m=\u001b[0m \u001b[0mnp\u001b[0m\u001b[1;33m.\u001b[0m\u001b[0mdot\u001b[0m\u001b[1;33m(\u001b[0m\u001b[0mself\u001b[0m\u001b[1;33m.\u001b[0m\u001b[0mmodel\u001b[0m\u001b[1;33m.\u001b[0m\u001b[0mexog\u001b[0m\u001b[1;33m,\u001b[0m \u001b[0mself\u001b[0m\u001b[1;33m.\u001b[0m\u001b[0mfe_params\u001b[0m\u001b[1;33m)\u001b[0m\u001b[1;33m\u001b[0m\u001b[1;33m\u001b[0m\u001b[0m\n\u001b[1;32m-> 2336\u001b[1;33m         \u001b[0mre\u001b[0m \u001b[1;33m=\u001b[0m \u001b[0mself\u001b[0m\u001b[1;33m.\u001b[0m\u001b[0mrandom_effects\u001b[0m\u001b[1;33m\u001b[0m\u001b[1;33m\u001b[0m\u001b[0m\n\u001b[0m\u001b[0;32m   2337\u001b[0m         \u001b[1;32mfor\u001b[0m \u001b[0mgroup_ix\u001b[0m\u001b[1;33m,\u001b[0m \u001b[0mgroup\u001b[0m \u001b[1;32min\u001b[0m \u001b[0menumerate\u001b[0m\u001b[1;33m(\u001b[0m\u001b[0mself\u001b[0m\u001b[1;33m.\u001b[0m\u001b[0mmodel\u001b[0m\u001b[1;33m.\u001b[0m\u001b[0mgroup_labels\u001b[0m\u001b[1;33m)\u001b[0m\u001b[1;33m:\u001b[0m\u001b[1;33m\u001b[0m\u001b[1;33m\u001b[0m\u001b[0m\n\u001b[0;32m   2338\u001b[0m             \u001b[0mix\u001b[0m \u001b[1;33m=\u001b[0m \u001b[0mself\u001b[0m\u001b[1;33m.\u001b[0m\u001b[0mmodel\u001b[0m\u001b[1;33m.\u001b[0m\u001b[0mrow_indices\u001b[0m\u001b[1;33m[\u001b[0m\u001b[0mgroup\u001b[0m\u001b[1;33m]\u001b[0m\u001b[1;33m\u001b[0m\u001b[1;33m\u001b[0m\u001b[0m\n",
      "\u001b[1;32mpandas\\_libs\\properties.pyx\u001b[0m in \u001b[0;36mpandas._libs.properties.CachedProperty.__get__\u001b[1;34m()\u001b[0m\n",
      "\u001b[1;32m~\\AppData\\Local\\Programs\\Python\\Python38-32\\lib\\site-packages\\statsmodels\\regression\\mixed_linear_model.py\u001b[0m in \u001b[0;36mrandom_effects\u001b[1;34m(self)\u001b[0m\n\u001b[0;32m   2411\u001b[0m             \u001b[0mcov_re_inv\u001b[0m \u001b[1;33m=\u001b[0m \u001b[0mnp\u001b[0m\u001b[1;33m.\u001b[0m\u001b[0mlinalg\u001b[0m\u001b[1;33m.\u001b[0m\u001b[0minv\u001b[0m\u001b[1;33m(\u001b[0m\u001b[0mself\u001b[0m\u001b[1;33m.\u001b[0m\u001b[0mcov_re\u001b[0m\u001b[1;33m)\u001b[0m\u001b[1;33m\u001b[0m\u001b[1;33m\u001b[0m\u001b[0m\n\u001b[0;32m   2412\u001b[0m         \u001b[1;32mexcept\u001b[0m \u001b[0mnp\u001b[0m\u001b[1;33m.\u001b[0m\u001b[0mlinalg\u001b[0m\u001b[1;33m.\u001b[0m\u001b[0mLinAlgError\u001b[0m\u001b[1;33m:\u001b[0m\u001b[1;33m\u001b[0m\u001b[1;33m\u001b[0m\u001b[0m\n\u001b[1;32m-> 2413\u001b[1;33m             raise ValueError(\"Cannot predict random effects from \" +\n\u001b[0m\u001b[0;32m   2414\u001b[0m                              \"singular covariance structure.\")\n\u001b[0;32m   2415\u001b[0m \u001b[1;33m\u001b[0m\u001b[0m\n",
      "\u001b[1;31mValueError\u001b[0m: Cannot predict random effects from singular covariance structure."
     ]
    }
   ],
   "source": [
    "test_mlm_class = mlm.linearmixedeffects(A,B,C)\n",
    "test_mlm_summary = mlm.linearmixedeffects(A,B,C).summarymlm()\n",
    "test_mlm_plot = mlm.linearmixedeffects(A,B,C).plotmlm()"
   ]
  },
  {
   "cell_type": "code",
   "execution_count": 24,
   "metadata": {},
   "outputs": [
    {
     "output_type": "execute_result",
     "data": {
      "text/plain": [
       "0.2"
      ]
     },
     "metadata": {},
     "execution_count": 24
    }
   ],
   "source": [
    "#from statsmodels.regression import mixed_linear_model\n",
    "#import pandas as pd\n",
    "#mlm = mixed_linear_model.MixedLM(endog = pd.DataFrame(A), exog = pd.DataFrame(B), groups = pd.DataFrame(C), formula = 'A ~ B')\n",
    "#mlmf = mlm.fit()\n",
    "#db_plot = pd.DataFrame()\n",
    "#db_plot[\"residuals\"] = mlmf.resid.values\n",
    "#db_plot[\"fixed\"] = B\n",
    "#db_plot[\"predicted\"] = mlmf.fittedvalues\n",
    "#mlmf?\n",
    "mlmf.params[0]"
   ]
  },
  {
   "cell_type": "code",
   "execution_count": 37,
   "metadata": {},
   "outputs": [
    {
     "output_type": "stream",
     "name": "stdout",
     "text": [
      " \nThe summary of the linear mixed effects model is given below:\n"
     ]
    },
    {
     "output_type": "execute_result",
     "data": {
      "text/plain": [
       "<class 'statsmodels.iolib.summary2.Summary'>\n",
       "\"\"\"\n",
       "       Mixed Linear Model Regression Results\n",
       "====================================================\n",
       "Model:            MixedLM Dependent Variable: 0.0000\n",
       "No. Observations: 10      Method:             REML  \n",
       "No. Groups:       1       Scale:              0.0000\n",
       "Min. group size:  1       Log-Likelihood:     inf   \n",
       "Max. group size:  1       Converged:          No    \n",
       "Mean group size:  1.0                               \n",
       "-----------------------------------------------------\n",
       "            Coef.  Std.Err.  z  P>|z|  [0.025  0.975]\n",
       "-----------------------------------------------------\n",
       "0           0.200                                    \n",
       "Group Var   0.000                                    \n",
       "====================================================\n",
       "\n",
       "\"\"\""
      ],
      "text/html": "<table class=\"simpletable\">\n<tr>\n       <td>Model:</td>       <td>MixedLM</td> <td>Dependent Variable:</td> <td>0.0000</td>\n</tr>\n<tr>\n  <td>No. Observations:</td>   <td>10</td>          <td>Method:</td>        <td>REML</td> \n</tr>\n<tr>\n     <td>No. Groups:</td>       <td>1</td>          <td>Scale:</td>        <td>0.0000</td>\n</tr>\n<tr>\n  <td>Min. group size:</td>     <td>1</td>      <td>Log-Likelihood:</td>     <td>inf</td> \n</tr>\n<tr>\n  <td>Max. group size:</td>     <td>1</td>        <td>Converged:</td>        <td>No</td>  \n</tr>\n<tr>\n  <td>Mean group size:</td>    <td>1.0</td>            <td></td>              <td></td>   \n</tr>\n</table>\n<table class=\"simpletable\">\n<tr>\n      <td></td>      <th>Coef.</th> <th>Std.Err.</th> <th>z</th> <th>P>|z|</th> <th>[0.025</th> <th>0.975]</th>\n</tr>\n<tr>\n  <th>0</th>         <td>0.200</td>     <td></td>     <td></td>    <td></td>       <td></td>       <td></td>   \n</tr>\n<tr>\n  <th>Group Var</th> <td>0.000</td>     <td></td>     <td></td>    <td></td>       <td></td>       <td></td>   \n</tr>\n</table>"
     },
     "metadata": {},
     "execution_count": 37
    }
   ],
   "source": [
    "testmlm.summarymlm()"
   ]
  },
  {
   "cell_type": "code",
   "execution_count": 25,
   "metadata": {},
   "outputs": [],
   "source": [
    "class linearmixedeffects():\n",
    "    import seaborn as sns; sns.set()\n",
    "    import matplotlib.pyplot as plt\n",
    "    import numpy as np\n",
    "    import pandas as pd\n",
    "    from statsmodels.regression import mixed_linear_model\n",
    "    import sklearn as sk\n",
    "    from math import sqrt\n",
    "    import statsmodels.api as sm\n",
    "    def __init__(self, response, fixed, random, predict = 0, mlmf = 0):\n",
    "        self.response = response\n",
    "        self.fixed = fixed\n",
    "        self.random = random\n",
    "\n",
    "    def summarymlm(self):\n",
    "        import pandas as pd\n",
    "        from statsmodels.regression import mixed_linear_model\n",
    "        mlm = mixed_linear_model.MixedLM(endog = pd.DataFrame(self.response), exog = pd.DataFrame(self.fixed), groups = pd.DataFrame(self.random), formula = 'response ~ fixed')\n",
    "        mlmf = mlm.fit()\n",
    "        print(\" \")\n",
    "        print(\"The summary of the linear mixed effects model is given below:\")\n",
    "        return mlmf.summary()\n",
    "\n",
    "    def plotmlm(self):\n",
    "        import seaborn as sns; sns.set()\n",
    "        import pandas as pd\n",
    "        db_plot = pd.DataFrame()\n",
    "        db_plot[\"residuals\"] = mlmf.resid.values\n",
    "        db_plot[\"fixed\"] = fixed\n",
    "        db_plot[\"predicted\"] = mdf.fittedvalues\n",
    "        \n",
    "        sns.lmplot(x = \"predicted\", y = \"residuals\", data = dbplot)"
   ]
  },
  {
   "cell_type": "code",
   "execution_count": 26,
   "metadata": {},
   "outputs": [
    {
     "output_type": "stream",
     "name": "stdout",
     "text": [
      " \n",
      "The summary of the linear mixed effects model is given below:\n",
      "C:\\ProgramData\\Anaconda3\\lib\\site-packages\\statsmodels\\base\\model.py:566: ConvergenceWarning: Maximum Likelihood optimization failed to converge. Check mle_retvals\n",
      "  warnings.warn(\"Maximum Likelihood optimization failed to \"\n",
      "C:\\ProgramData\\Anaconda3\\lib\\site-packages\\statsmodels\\regression\\mixed_linear_model.py:2200: ConvergenceWarning: Retrying MixedLM optimization with lbfgs\n",
      "  warnings.warn(\n",
      "C:\\ProgramData\\Anaconda3\\lib\\site-packages\\statsmodels\\base\\model.py:566: ConvergenceWarning: Maximum Likelihood optimization failed to converge. Check mle_retvals\n",
      "  warnings.warn(\"Maximum Likelihood optimization failed to \"\n",
      "C:\\ProgramData\\Anaconda3\\lib\\site-packages\\statsmodels\\regression\\mixed_linear_model.py:2200: ConvergenceWarning: Retrying MixedLM optimization with cg\n",
      "  warnings.warn(\n",
      "C:\\ProgramData\\Anaconda3\\lib\\site-packages\\statsmodels\\base\\model.py:566: ConvergenceWarning: Maximum Likelihood optimization failed to converge. Check mle_retvals\n",
      "  warnings.warn(\"Maximum Likelihood optimization failed to \"\n",
      "C:\\ProgramData\\Anaconda3\\lib\\site-packages\\statsmodels\\regression\\mixed_linear_model.py:2206: ConvergenceWarning: MixedLM optimization failed, trying a different optimizer may help.\n",
      "  warnings.warn(msg, ConvergenceWarning)\n",
      "C:\\ProgramData\\Anaconda3\\lib\\site-packages\\statsmodels\\regression\\mixed_linear_model.py:2218: ConvergenceWarning: Gradient optimization failed, |grad| = nan\n",
      "  warnings.warn(msg, ConvergenceWarning)\n",
      "C:\\ProgramData\\Anaconda3\\lib\\site-packages\\statsmodels\\regression\\mixed_linear_model.py:2237: ConvergenceWarning: The MLE may be on the boundary of the parameter space.\n",
      "  warnings.warn(msg, ConvergenceWarning)\n"
     ]
    },
    {
     "output_type": "execute_result",
     "data": {
      "text/plain": [
       "<class 'statsmodels.iolib.summary2.Summary'>\n",
       "\"\"\"\n",
       "       Mixed Linear Model Regression Results\n",
       "====================================================\n",
       "Model:            MixedLM Dependent Variable: 0.0000\n",
       "No. Observations: 10      Method:             REML  \n",
       "No. Groups:       1       Scale:              0.0000\n",
       "Min. group size:  1       Log-Likelihood:     inf   \n",
       "Max. group size:  1       Converged:          No    \n",
       "Mean group size:  1.0                               \n",
       "-----------------------------------------------------\n",
       "            Coef.  Std.Err.  z  P>|z|  [0.025  0.975]\n",
       "-----------------------------------------------------\n",
       "0           0.200                                    \n",
       "Group Var   0.000                                    \n",
       "====================================================\n",
       "\n",
       "\"\"\""
      ],
      "text/html": "<table class=\"simpletable\">\n<tr>\n       <td>Model:</td>       <td>MixedLM</td> <td>Dependent Variable:</td> <td>0.0000</td>\n</tr>\n<tr>\n  <td>No. Observations:</td>   <td>10</td>          <td>Method:</td>        <td>REML</td> \n</tr>\n<tr>\n     <td>No. Groups:</td>       <td>1</td>          <td>Scale:</td>        <td>0.0000</td>\n</tr>\n<tr>\n  <td>Min. group size:</td>     <td>1</td>      <td>Log-Likelihood:</td>     <td>inf</td> \n</tr>\n<tr>\n  <td>Max. group size:</td>     <td>1</td>        <td>Converged:</td>        <td>No</td>  \n</tr>\n<tr>\n  <td>Mean group size:</td>    <td>1.0</td>            <td></td>              <td></td>   \n</tr>\n</table>\n<table class=\"simpletable\">\n<tr>\n      <td></td>      <th>Coef.</th> <th>Std.Err.</th> <th>z</th> <th>P>|z|</th> <th>[0.025</th> <th>0.975]</th>\n</tr>\n<tr>\n  <th>0</th>         <td>0.200</td>     <td></td>     <td></td>    <td></td>       <td></td>       <td></td>   \n</tr>\n<tr>\n  <th>Group Var</th> <td>0.000</td>     <td></td>     <td></td>    <td></td>       <td></td>       <td></td>   \n</tr>\n</table>"
     },
     "metadata": {},
     "execution_count": 26
    }
   ],
   "source": [
    "A = [1, 2, 3, 4, 5, 6, 7, 8 , 9 , 10]\n",
    "B = [5, 6, 8, 9, 16, 29, 14, 16, 19, 25]\n",
    "C = [\"1\",\"1\",\"1\",\"1\",\"1\",\"1\",\"2\",\"2\",\"2\",\"2\"]\n",
    "test1 = linearmixedeffects(A,B,C)\n",
    "test1.summarymlm()"
   ]
  }
 ]
}