{
 "cells": [
  {
   "cell_type": "markdown",
   "metadata": {},
   "source": [
    "**If the code below does not work, there is the exact same code in the last cell of the file at the following address:**\n",
    "\n",
    "**/lr_for_the_masses/lr_mlr/mlr.py**\n",
    "\n",
    "**That code does work more stably than this version**"
   ]
  },
  {
   "cell_type": "code",
   "execution_count": 1,
   "metadata": {},
   "outputs": [],
   "source": [
    "from lr_for_the_masses.lr_mlr import lr as lr\n",
    "import unittest"
   ]
  },
  {
   "cell_type": "code",
   "execution_count": null,
   "metadata": {},
   "outputs": [],
   "source": [
    "import uncertainties.unumpy as unp\n",
    "import uncertainties as unc\n",
    "import scipy\n",
    "import matplotlib\n",
    "from scipy import stats\n",
    "from scipy.optimize import curve_fit\n",
    "import matplotlib.pyplot as plt\n",
    "import numpy as np\n",
    "import seaborn as sns\n",
    "import sklearn as skl\n",
    "from sklearn import linear_model"
   ]
  },
  {
   "cell_type": "code",
   "execution_count": 4,
   "metadata": {},
   "outputs": [
    {
     "ename": "NameError",
     "evalue": "name 'plotlin' is not defined",
     "output_type": "error",
     "traceback": [
      "\u001b[1;31m---------------------------------------------------------------------------\u001b[0m",
      "\u001b[1;31mNameError\u001b[0m                                 Traceback (most recent call last)",
      "\u001b[1;32m<ipython-input-4-97b03f3ebe8d>\u001b[0m in \u001b[0;36m<module>\u001b[1;34m\u001b[0m\n\u001b[0;32m      7\u001b[0m \u001b[1;31m# print(round(P1.summarylin_test_pval(),2))\u001b[0m\u001b[1;33m\u001b[0m\u001b[1;33m\u001b[0m\u001b[1;33m\u001b[0m\u001b[0m\n\u001b[0;32m      8\u001b[0m \u001b[1;33m\u001b[0m\u001b[0m\n\u001b[1;32m----> 9\u001b[1;33m \u001b[0mP2\u001b[0m \u001b[1;33m=\u001b[0m \u001b[0mplotlin\u001b[0m\u001b[1;33m(\u001b[0m\u001b[0mA\u001b[0m\u001b[1;33m,\u001b[0m\u001b[0mB\u001b[0m\u001b[1;33m)\u001b[0m\u001b[1;33m\u001b[0m\u001b[1;33m\u001b[0m\u001b[0m\n\u001b[0m\u001b[0;32m     10\u001b[0m \u001b[0mprint\u001b[0m\u001b[1;33m(\u001b[0m\u001b[0mstr\u001b[0m\u001b[1;33m(\u001b[0m\u001b[0mtype\u001b[0m\u001b[1;33m(\u001b[0m\u001b[0mP2\u001b[0m\u001b[1;33m.\u001b[0m\u001b[0mplotoriginaldata\u001b[0m\u001b[1;33m)\u001b[0m\u001b[1;33m)\u001b[0m\u001b[1;33m)\u001b[0m\u001b[1;33m\u001b[0m\u001b[1;33m\u001b[0m\u001b[0m\n\u001b[0;32m     11\u001b[0m \u001b[0mx\u001b[0m \u001b[1;33m=\u001b[0m \u001b[0mnp\u001b[0m\u001b[1;33m.\u001b[0m\u001b[0mlinspace\u001b[0m\u001b[1;33m(\u001b[0m\u001b[1;36m10\u001b[0m\u001b[1;33m,\u001b[0m\u001b[1;36m5\u001b[0m\u001b[1;33m)\u001b[0m\u001b[1;33m\u001b[0m\u001b[1;33m\u001b[0m\u001b[0m\n",
      "\u001b[1;31mNameError\u001b[0m: name 'plotlin' is not defined"
     ]
    }
   ],
   "source": [
    "A = [1, 2, 3, 4, 5, 6, 7, 8 , 9 , 10]\n",
    "B = [5, 6, 8, 9, 16, 29, 14, 16, 19, 25]\n",
    "# P1 = simlin(A,B)\n",
    "# print(round(P1.summarylin_test_slope(),2))\n",
    "# print(round(P1.summarylin_test_inctercept(),2))\n",
    "# print(round(P1.summarylin_test_rval(),2))\n",
    "# print(round(P1.summarylin_test_pval(),2))\n",
    "\n",
    "P2 = plotlin(A,B)\n",
    "print(str(type(P2.plotoriginaldata)))\n",
    "x = np.linspace(10,5)\n",
    "print(str(type(x)))\n",
    "        \n",
    "import unittest\n",
    "\n",
    "\n",
    "\n",
    "class TestPerson(unittest.TestCase):\n",
    "    \n",
    "    @classmethod\n",
    "    def setUpClass(cls):\n",
    "        print('setupClass')\n",
    "\n",
    "    \n",
    "    def setUp(self):\n",
    "        self.p1 = simlin(A,B)\n",
    "        self.p2 = plotlin(A,B)\n",
    "        print('set Up')\n",
    "\n",
    "    def test_set_lin(self): # test routine\n",
    "        p1 = simlin(A,B)\n",
    "        self.assertEqual(round(p1.summarylin_test_slope(),2),2.05)\n",
    "        self.assertEqual(round(p1.summarylin_test_inctercept(),2), 3.4)\n",
    "        self.assertEqual(round(p1.summarylin_test_rval(),2), 0.77)\n",
    "        self.assertEqual(round(p1.summarylin_test_pval(),2), 0.01)\n",
    "        \n",
    "    def test_plot_lin(self): # test routine\n",
    "        p2 = plotlin(A,B)\n",
    "        self.assertEqual(str(type(p2.plotoriginaldata)),str(\"\"\"<class 'method'>\"\"\"))\n",
    "        self.assertEqual(str(type(p2.plotfittedline)),str(\"\"\"<class 'method'>\"\"\"))\n",
    "        self.assertEqual(str(type(p2.plotconfidence_intervals)),str(\"\"\"<class 'method'>\"\"\"))\n",
    "        self.assertNotEqual(str(type(p2.plottest)),str(\"\"\"<class 'method'>\"\"\"))\n",
    "\n",
    "        \n",
    "               \n",
    "\n",
    "    def tearDown(self): # Setting up for the test\n",
    "        print('Tear Down')\n",
    "        \n",
    "    @classmethod\n",
    "    def tearDownClass(cls):\n",
    "        print('teardownClass')\n",
    "        \n",
    "unittest.main(argv=[''], verbosity=2, exit=False)\n",
    "\n"
   ]
  },
  {
   "cell_type": "code",
   "execution_count": null,
   "metadata": {},
   "outputs": [],
   "source": []
  }
 ],
 "metadata": {
  "kernelspec": {
   "display_name": "Python 3",
   "language": "python",
   "name": "python3"
  },
  "language_info": {
   "codemirror_mode": {
    "name": "ipython",
    "version": 3
   },
   "file_extension": ".py",
   "mimetype": "text/x-python",
   "name": "python",
   "nbconvert_exporter": "python",
   "pygments_lexer": "ipython3",
   "version": "3.8.3"
  }
 },
 "nbformat": 4,
 "nbformat_minor": 4
}
