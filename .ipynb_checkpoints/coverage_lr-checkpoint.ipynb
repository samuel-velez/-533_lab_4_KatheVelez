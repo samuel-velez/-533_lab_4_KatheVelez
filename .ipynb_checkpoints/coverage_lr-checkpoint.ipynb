{
 "cells": [
  {
   "cell_type": "markdown",
   "metadata": {},
   "source": [
    "**If the code below does not work, there is the exact same code in the last cell of the file at the following address:**\n",
    "\n",
    "**/lr_for_the_masses/lr_mlr/lr.py**\n",
    "\n",
    "**That code does work more stably than this version**"
   ]
  },
  {
   "cell_type": "code",
   "execution_count": 9,
   "metadata": {},
   "outputs": [
    {
     "name": "stdout",
     "output_type": "stream",
     "text": [
      "<class 'method'>\n",
      "<class 'numpy.ndarray'>\n",
      "setupClass\n",
      "set Up\n"
     ]
    },
    {
     "name": "stderr",
     "output_type": "stream",
     "text": [
      "\n",
      "----------------------------------------------------------------------\n",
      "Ran 0 tests in 0.000s\n",
      "\n",
      "OK\n",
      "test_plot_lin (__main__.TestPerson) ... ok\n",
      "test_set_lin (__main__.TestPerson) ... ok\n",
      "\n",
      "----------------------------------------------------------------------\n",
      "Ran 2 tests in 1.785s\n"
     ]
    },
    {
     "name": "stdout",
     "output_type": "stream",
     "text": [
      " \n",
      "The diagnosis of the simple Linear Regression model for the R value, P-value and Std. error is given below:\n",
      " r_val: 0.77 p_val: 0.01 std_err: 0.59\n",
      " \n",
      "The following is the original data\n",
      "Figure(640x480)\n",
      " \n",
      "The following is a visual representation of the regression analysis\n",
      "Figure(640x480)\n",
      " \n",
      "The following is a visual representation of the regression analysis with confidence intervals\n",
      "Tear Down\n",
      "set Up\n",
      " \n",
      "The summary of the linear regression model is given below:\n",
      "Slope: 2.05 Intercept: 3.40\n",
      "Tear Down\n",
      "teardownClass\n"
     ]
    },
    {
     "name": "stderr",
     "output_type": "stream",
     "text": [
      "\n",
      "OK\n"
     ]
    }
   ],
   "source": [
    "#pip install coverage\n",
    "!coverage run unittest_lr_lab4.py"
   ]
  },
  {
   "cell_type": "code",
   "execution_count": 10,
   "metadata": {},
   "outputs": [
    {
     "name": "stdout",
     "output_type": "stream",
     "text": [
      "Name                                   Stmts   Miss  Cover\n",
      "----------------------------------------------------------\n",
      "lr_for_the_masses\\__init__.py              0      0   100%\n",
      "lr_for_the_masses\\lr_mlr\\__init__.py       0      0   100%\n",
      "lr_for_the_masses\\lr_mlr\\mlr.py           51      2    96%\n",
      "unittest_mlr_lab4.py                      43      0   100%\n",
      "----------------------------------------------------------\n",
      "TOTAL                                     94      2    98%\n"
     ]
    }
   ],
   "source": [
    "!coverage report"
   ]
  },
  {
   "cell_type": "code",
   "execution_count": 11,
   "metadata": {},
   "outputs": [],
   "source": [
    "!coverage html"
   ]
  }
 ],
 "metadata": {
  "kernelspec": {
   "display_name": "Python 3",
   "language": "python",
   "name": "python3"
  },
  "language_info": {
   "codemirror_mode": {
    "name": "ipython",
    "version": 3
   },
   "file_extension": ".py",
   "mimetype": "text/x-python",
   "name": "python",
   "nbconvert_exporter": "python",
   "pygments_lexer": "ipython3",
   "version": "3.8.3"
  }
 },
 "nbformat": 4,
 "nbformat_minor": 4
}
