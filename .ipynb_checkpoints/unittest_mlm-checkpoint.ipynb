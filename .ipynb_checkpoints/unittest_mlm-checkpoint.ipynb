{
 "cells": [
  {
   "cell_type": "code",
   "execution_count": 4,
   "metadata": {},
   "outputs": [
    {
     "ename": "ModuleNotFoundError",
     "evalue": "No module named 'lr_for_the_masses.rr_mlr'",
     "output_type": "error",
     "traceback": [
      "\u001b[1;31m---------------------------------------------------------------------------\u001b[0m",
      "\u001b[1;31mModuleNotFoundError\u001b[0m                       Traceback (most recent call last)",
      "\u001b[1;32m<ipython-input-4-b816e8a47b14>\u001b[0m in \u001b[0;36m<module>\u001b[1;34m\u001b[0m\n\u001b[0;32m      1\u001b[0m \u001b[1;32mimport\u001b[0m \u001b[0munittest\u001b[0m\u001b[1;33m\u001b[0m\u001b[1;33m\u001b[0m\u001b[0m\n\u001b[0;32m      2\u001b[0m \u001b[1;33m\u001b[0m\u001b[0m\n\u001b[1;32m----> 3\u001b[1;33m \u001b[1;32mfrom\u001b[0m \u001b[0mlr_for_the_masses\u001b[0m\u001b[1;33m.\u001b[0m\u001b[0mrr_mlr\u001b[0m \u001b[1;32mimport\u001b[0m \u001b[0mmlm\u001b[0m \u001b[1;32mas\u001b[0m \u001b[0mmlm\u001b[0m\u001b[1;33m\u001b[0m\u001b[1;33m\u001b[0m\u001b[0m\n\u001b[0m\u001b[0;32m      4\u001b[0m \u001b[1;33m\u001b[0m\u001b[0m\n\u001b[0;32m      5\u001b[0m \u001b[1;33m\u001b[0m\u001b[0m\n",
      "\u001b[1;31mModuleNotFoundError\u001b[0m: No module named 'lr_for_the_masses.rr_mlr'"
     ]
    }
   ],
   "source": [
    "import unittest\n",
    "\n",
    "from lr_for_the_masses.rr_mlr import mlm as mlm\n",
    "\n",
    "\n",
    "class Testmlm(unittest.TestCase):\n",
    "\n",
    "# Each test class should have at least two test cases and each test case should contain at least four assertion statements.\n",
    "\n",
    "    def test_summarylin(self):\n",
    "        A = [1, 2, 3, 4, 5, 6, 7, 8 , 9 , 10]\n",
    "        B = [5, 6, 8, 9, 16, 29, 14, 16, 19, 25]\n",
    "        C = [\"1\",\"1\",\"1\",\"1\",\"1\",\"1\",\"2\",\"2\",\"2\",\"2\"]\n",
    "        self.assertEqual(str( type(mlm.linearmixedeffects(A,B,C)) ), \"<class 'mlm.linearmixedeffects'>\")\n",
    "        self.assertEqual(str( type(mlm.linearmixedeffects(A,B,C).summarymlm()) ), \"<class 'statsmodels.iolib.summary2.Summary'>\")\n",
    "        self.assertEqual(mlm.linearmixedeffects(A,B,C).fitmlm().fe_params[0], 0.2)\n",
    "        self.assertEqual(str( type(mlm.linearmixedeffects(A,B,C).fitmlm().model) ), \"<class 'statsmodels.regression.mixed_linear_model.MixedLM'>\")\n",
    "\n",
    "unittest.main(argv=[''], verbosity=2, exit=False)\n",
    "\n",
    "class Testmlm_2(unittest.TestCase):\n",
    "\n",
    "# Each test class should have at least two test cases and each test case should contain at least four assertion statements.\n",
    "\n",
    "    def test_summarylin(self):\n",
    "        A = [1, 2, 3, 4, 5, 6, 7, 8 , 9 , 10]\n",
    "        B = [5, 6, 8, 9, 16, 29, 14, 16, 19, 25]\n",
    "        C = [\"1\",\"1\",\"1\",\"1\",\"1\",\"1\",\"2\",\"2\",\"2\",\"2\"]\n",
    "        self.assertTrue(mlm.linearmixedeffects(A,B,C).fitmlm().cov_re[\"Group Var\"][0] == 0)\n",
    "        self.assertTrue(pd.isnull(mlm.linearmixedeffects(A,B,C).fitmlm().normalized_cov_params[0][0]))\n",
    "        self.assertTrue(pd.isnull(mlm.linearmixedeffects(A,B,C).fitmlm().bse_fe[0]))\n",
    "        self.assertTrue(pd.isnull(mlm.linearmixedeffects(A,B,C).fitmlm().bse_re[0]))\n",
    "\n",
    "unittest.main(argv=[''], verbosity=2, exit=False)"
   ]
  },
  {
   "cell_type": "code",
   "execution_count": null,
   "metadata": {},
   "outputs": [],
   "source": []
  },
  {
   "cell_type": "code",
   "execution_count": null,
   "metadata": {},
   "outputs": [],
   "source": []
  },
  {
   "cell_type": "code",
   "execution_count": null,
   "metadata": {},
   "outputs": [],
   "source": []
  }
 ],
 "metadata": {
  "kernelspec": {
   "display_name": "Python 3",
   "language": "python",
   "name": "python3"
  },
  "language_info": {
   "codemirror_mode": {
    "name": "ipython",
    "version": 3
   },
   "file_extension": ".py",
   "mimetype": "text/x-python",
   "name": "python",
   "nbconvert_exporter": "python",
   "pygments_lexer": "ipython3",
   "version": "3.8.3"
  }
 },
 "nbformat": 4,
 "nbformat_minor": 4
}
