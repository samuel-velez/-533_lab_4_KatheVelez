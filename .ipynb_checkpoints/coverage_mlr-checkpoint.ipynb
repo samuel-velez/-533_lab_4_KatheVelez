{
 "cells": [
  {
   "cell_type": "code",
   "execution_count": 4,
   "metadata": {},
   "outputs": [
    {
     "name": "stdout",
     "output_type": "stream",
     "text": [
      "setupClass\n",
      "set Up\n",
      "The coefficients for multiple linear regression are: \n"
     ]
    },
    {
     "name": "stderr",
     "output_type": "stream",
     "text": [
      "test_setlin (__main__.Testmlr) ... ok\n",
      "test_setlin2 (__main__.Testmlr) ... ok\n",
      "\n",
      "----------------------------------------------------------------------\n",
      "Ran 2 tests in 0.011s\n",
      "\n",
      "OK\n"
     ]
    },
    {
     "name": "stdout",
     "output_type": "stream",
     "text": [
      "[0.5 0.5]\n",
      "The intercept for multiple linear regression is: \n",
      "0\n",
      "The fitted model is of the form Y = \"0.000000\" + \"0.500000\"*x1 + \"0.500000\"*x2\n",
      "The R2 value of the model is \"1.0\" \n",
      "The current model explains \"100.0\" % of the data: \n",
      "Tear Down\n",
      "set Up\n",
      "Tear Down\n",
      "teardownClass\n"
     ]
    }
   ],
   "source": [
    "#pip install coverage\n",
    "!coverage run unittest_mlr_lab4.py"
   ]
  },
  {
   "cell_type": "code",
   "execution_count": 5,
   "metadata": {},
   "outputs": [
    {
     "name": "stdout",
     "output_type": "stream",
     "text": [
      "Name                                   Stmts   Miss  Cover\n",
      "----------------------------------------------------------\n",
      "lr_for_the_masses\\__init__.py              0      0   100%\n",
      "lr_for_the_masses\\lr_mlr\\__init__.py       0      0   100%\n",
      "lr_for_the_masses\\lr_mlr\\mlr.py           48      0   100%\n",
      "unittest_mlr_lab4.py                      43      0   100%\n",
      "----------------------------------------------------------\n",
      "TOTAL                                     91      0   100%\n"
     ]
    }
   ],
   "source": [
    "!coverage report"
   ]
  },
  {
   "cell_type": "code",
   "execution_count": 6,
   "metadata": {},
   "outputs": [],
   "source": [
    "!coverage html"
   ]
  }
 ],
 "metadata": {
  "kernelspec": {
   "display_name": "Python 3",
   "language": "python",
   "name": "python3"
  },
  "language_info": {
   "codemirror_mode": {
    "name": "ipython",
    "version": 3
   },
   "file_extension": ".py",
   "mimetype": "text/x-python",
   "name": "python",
   "nbconvert_exporter": "python",
   "pygments_lexer": "ipython3",
   "version": "3.8.3"
  }
 },
 "nbformat": 4,
 "nbformat_minor": 4
}
